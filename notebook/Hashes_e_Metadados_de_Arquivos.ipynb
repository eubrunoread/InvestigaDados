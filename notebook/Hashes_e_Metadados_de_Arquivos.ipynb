{
  "nbformat": 4,
  "nbformat_minor": 0,
  "metadata": {
    "colab": {
      "provenance": [],
      "authorship_tag": "ABX9TyM5NmLTqsxZ7cX42QqDJ2Jq",
      "include_colab_link": true
    },
    "kernelspec": {
      "name": "python3",
      "display_name": "Python 3"
    },
    "language_info": {
      "name": "python"
    }
  },
  "cells": [
    {
      "cell_type": "markdown",
      "metadata": {
        "id": "view-in-github",
        "colab_type": "text"
      },
      "source": [
        "<a href=\"https://colab.research.google.com/github/eubrunoread/InvestigaDados/blob/main/notebook/Hashes_e_Metadados_de_Arquivos.ipynb\" target=\"_parent\"><img src=\"https://colab.research.google.com/assets/colab-badge.svg\" alt=\"Open In Colab\"/></a>"
      ]
    },
    {
      "cell_type": "markdown",
      "source": [
        "#**SOLUÇÃO PARA LEITURA DE METADADOS E CÁLCULO DE HASH DE ARQUIVOS**\n",
        "----\n",
        "*Desenvolvido pelo Agente PCSC **Bruno Bevilaqua Lemos** como parte de um projeto pessoal de aprendizagem de Phyton, sugestões ou correções podem ser enviadas para bruno-lemos@pc.sc.gov.br*\n",
        "\n",
        "----\n",
        "\n",
        "*Para rodar código pressione CTRL+F9, ou vá clicando no botão ![image.png](data:image/png;base64,iVBORw0KGgoAAAANSUhEUgAAAC8AAAAmCAYAAABUKMJkAAAAAXNSR0IArs4c6QAAAARnQU1BAACxjwv8YQUAAAAJcEhZcwAADsMAAA7DAcdvqGQAAAHLSURBVFhH7Ze9jkFREMf/uxG1QsUT8AIahVI8gFbhoxGlUqVUa3wUWg8gSoXGC/AElKIUkezu3B2Rvfdwz2E4e5PzS26uM8lM/hlzZuZ+fP2AiPLJ70hyM/PH45F//V8inXkn3hZOvC2ceFs48bZ4i/jD4eA90rxsPZjNZlgul9hsNjidTp4tHo8jk8kgn8+jVCp5tmcQF79arTAajbDb7diiJpVKoVarIZfLscUcUfGU7X6/zyc9ms3mw/+CWM1Txk2FE+RDvo8gJp5KxQ/Vdjab5dNtVL46iIincrlV471eD61WC8lkki1ByJdimCIinrrKPYrFIsbjMcrlMluChMVQISKe2mEYsVgMlUoFg8EAhUKBrVd0Yvh5WjwNn0sf1yGdTqPdbqPb7f65DxTDdJCJXVgbPC0+kUh4k1OX7XbrXeJOp4P1es3W3+lLsUwQyTyN/DDO5zMmkwkajQYWiwVbr+jE8CMinvr5PebzOarVKqbTKVuChMVQIbYe1Ov1QK8nQfv9/k95qKA9Zzgc8kkfsQtLS5Yf6t1hwgmVrw5i4mk7pCXLFPJ5dLN0K7GKSH6MqLhMTtM+HsZbxL8KsQtrAyfeFk68HYBvQ17kr+ayAbIAAAAASUVORK5CYII=) em cada célula.*\n",
        "\n",
        "-----\n",
        "Este código faz o upload, processamento de arquivos informando suas tags de metadados (pode ser criado um dicionário com a tradução das tags) e calculando o código HASH (pode ser configurado o algoritmo de cálculo), gerando um arquivo TXT com o conteúdo.\n",
        "\n",
        "###**Fluxo geral:**\n",
        "\n",
        "1. O usuário faz upload dos arquivos a serem processados (pode se processar multiplos arquivos ao mesmo tempo).\n",
        "\n",
        "2. O script lê, processa e exibe os dados.\n",
        "\n",
        "3. A transcrição é gerada e salva em um arquivo TXT que pode ser baixado.\n",
        "----\n",
        "##**O que são Hashes e Metadados**\n",
        "----\n",
        "\n",
        "\n",
        "**Hashes**\n",
        "\n",
        "Um hash é como uma \"impressão digital\" de um conjunto de dados. É uma sequência de números e letras gerada a partir de informações, como um arquivo ou uma senha.\n",
        "\n",
        "\n",
        "\n",
        "*Por que é útil?*\n",
        "\n",
        "*Verificação:* Ajuda a verificar se os dados foram alterados. Se você baixar um arquivo e calcular o hash, pode compará-lo com o hash original para ver se tudo está intacto.\n",
        "\n",
        "*Segurança:* Armazena senhas de forma segura. Em vez de guardar a senha real, guarda-se o hash dela. Assim, mesmo que alguém acesse o banco de dados, não verá as senhas verdadeiras.\n",
        "\n",
        "\n",
        "\n",
        "*É possivel dois arquivos diferente terem o mesmo Hash?*\n",
        "\n",
        "\n",
        "\n",
        "Sim, **a chamada colisão de hashes é téoricamente possivel**, porém praticamente impossivel.Para o algoritmo SHA-256 gera um hash de 256 bits, o que resulta em aproximadamente 1,1 x 10²⁷⁶ combinações possíveis. Na Terra estima-se que existam cerca de 7,5 x 10¹⁸ grãos de areia em todas as praias do mundo.\n",
        "\n",
        "Se pegarmos o número de combinações possíveis com SHA-256 e compararmos com os grãos de areia as Isso significa que o número de combinações possíveis de SHA-256 é cerca de 1,5 x 10⁵⁸ vezes maior do que o número estimado de grãos de areia na Terra.\n",
        "\n",
        "*Imagine que cada grão de areia fosse uma galáxia cheia de estrelas e que cada estrela representasse milhões de grãos de areia. Mesmo assim, o número total de possibilidades do SHA-256 ainda seria imensamente maior!*  \n",
        "\n",
        "-----\n",
        "**Metadados**\n",
        "\n",
        "*O que é?*\n",
        "\n",
        "Metadados são dados sobre outros dados. Eles fornecem informações adicionais que ajudam a entender, organizar e encontrar esses dados.\n",
        "\n",
        "*Exemplos:*\n",
        "\n",
        "Em uma foto, os metadados podem incluir quando e onde a foto foi tirada, e qual câmera foi usada.\n",
        "Em um documento, podem incluir o autor, a data de criação e o tipo de arquivo.\n",
        "\n",
        "*Por que é útil?*\n",
        "\n",
        "Metadados ajudam a encontrar e organizar informações facilmente. Eles são como etiquetas que ajudam a entender melhor os dados."
      ],
      "metadata": {
        "id": "xwRWaS6osapR"
      }
    },
    {
      "cell_type": "markdown",
      "source": [
        "**Instalação de Bibliotecas e definição de funções**"
      ],
      "metadata": {
        "id": "oW8Hh76-uuOK"
      }
    },
    {
      "cell_type": "code",
      "source": [
        "# Instalar pyexiftool e exiftool\n",
        "!pip install pyexiftool\n",
        "!apt-get install -y exiftool\n",
        "\n",
        "import hashlib\n",
        "from exiftool import ExifToolHelper\n",
        "from google.colab import files\n",
        "\n",
        "# Função para calcular o hash do arquivo com base na escolha do algoritmo\n",
        "def calcular_hash(arquivo, algoritmo):\n",
        "    hash_obj = hashlib.new(algoritmo)\n",
        "    with open(arquivo, \"rb\") as f:\n",
        "        # Lê e atualiza o hash com blocos de 4KB\n",
        "        for byte_block in iter(lambda: f.read(4096), b\"\"):\n",
        "            hash_obj.update(byte_block)\n",
        "    return hash_obj.hexdigest()"
      ],
      "metadata": {
        "id": "po2XRuh4qj0F"
      },
      "execution_count": null,
      "outputs": []
    },
    {
      "cell_type": "markdown",
      "source": [
        "**Upload de Arquivos**\n",
        "\n",
        "Clique no botão 'Escolher arquivos' e selecione os arquivos em seu computador."
      ],
      "metadata": {
        "id": "3G3IoEVhu32x"
      }
    },
    {
      "cell_type": "code",
      "source": [
        "uploaded = files.upload()\n",
        "\n",
        "for fn in uploaded.keys():\n",
        "  print('Upload do arquivo \"{name}\" com {length} bytes'.format(\n",
        "      name=fn, length=len(uploaded[fn])))"
      ],
      "metadata": {
        "colab": {
          "base_uri": "https://localhost:8080/",
          "height": 38
        },
        "id": "-cWpgW9Bqmgn",
        "outputId": "a59302e8-3b14-4cde-bddd-23a0f4d4cce3"
      },
      "execution_count": 10,
      "outputs": [
        {
          "output_type": "display_data",
          "data": {
            "text/plain": [
              "<IPython.core.display.HTML object>"
            ],
            "text/html": [
              "\n",
              "     <input type=\"file\" id=\"files-47f090ba-1c74-4383-8389-58fa390f0a35\" name=\"files[]\" multiple disabled\n",
              "        style=\"border:none\" />\n",
              "     <output id=\"result-47f090ba-1c74-4383-8389-58fa390f0a35\">\n",
              "      Upload widget is only available when the cell has been executed in the\n",
              "      current browser session. Please rerun this cell to enable.\n",
              "      </output>\n",
              "      <script>// Copyright 2017 Google LLC\n",
              "//\n",
              "// Licensed under the Apache License, Version 2.0 (the \"License\");\n",
              "// you may not use this file except in compliance with the License.\n",
              "// You may obtain a copy of the License at\n",
              "//\n",
              "//      http://www.apache.org/licenses/LICENSE-2.0\n",
              "//\n",
              "// Unless required by applicable law or agreed to in writing, software\n",
              "// distributed under the License is distributed on an \"AS IS\" BASIS,\n",
              "// WITHOUT WARRANTIES OR CONDITIONS OF ANY KIND, either express or implied.\n",
              "// See the License for the specific language governing permissions and\n",
              "// limitations under the License.\n",
              "\n",
              "/**\n",
              " * @fileoverview Helpers for google.colab Python module.\n",
              " */\n",
              "(function(scope) {\n",
              "function span(text, styleAttributes = {}) {\n",
              "  const element = document.createElement('span');\n",
              "  element.textContent = text;\n",
              "  for (const key of Object.keys(styleAttributes)) {\n",
              "    element.style[key] = styleAttributes[key];\n",
              "  }\n",
              "  return element;\n",
              "}\n",
              "\n",
              "// Max number of bytes which will be uploaded at a time.\n",
              "const MAX_PAYLOAD_SIZE = 100 * 1024;\n",
              "\n",
              "function _uploadFiles(inputId, outputId) {\n",
              "  const steps = uploadFilesStep(inputId, outputId);\n",
              "  const outputElement = document.getElementById(outputId);\n",
              "  // Cache steps on the outputElement to make it available for the next call\n",
              "  // to uploadFilesContinue from Python.\n",
              "  outputElement.steps = steps;\n",
              "\n",
              "  return _uploadFilesContinue(outputId);\n",
              "}\n",
              "\n",
              "// This is roughly an async generator (not supported in the browser yet),\n",
              "// where there are multiple asynchronous steps and the Python side is going\n",
              "// to poll for completion of each step.\n",
              "// This uses a Promise to block the python side on completion of each step,\n",
              "// then passes the result of the previous step as the input to the next step.\n",
              "function _uploadFilesContinue(outputId) {\n",
              "  const outputElement = document.getElementById(outputId);\n",
              "  const steps = outputElement.steps;\n",
              "\n",
              "  const next = steps.next(outputElement.lastPromiseValue);\n",
              "  return Promise.resolve(next.value.promise).then((value) => {\n",
              "    // Cache the last promise value to make it available to the next\n",
              "    // step of the generator.\n",
              "    outputElement.lastPromiseValue = value;\n",
              "    return next.value.response;\n",
              "  });\n",
              "}\n",
              "\n",
              "/**\n",
              " * Generator function which is called between each async step of the upload\n",
              " * process.\n",
              " * @param {string} inputId Element ID of the input file picker element.\n",
              " * @param {string} outputId Element ID of the output display.\n",
              " * @return {!Iterable<!Object>} Iterable of next steps.\n",
              " */\n",
              "function* uploadFilesStep(inputId, outputId) {\n",
              "  const inputElement = document.getElementById(inputId);\n",
              "  inputElement.disabled = false;\n",
              "\n",
              "  const outputElement = document.getElementById(outputId);\n",
              "  outputElement.innerHTML = '';\n",
              "\n",
              "  const pickedPromise = new Promise((resolve) => {\n",
              "    inputElement.addEventListener('change', (e) => {\n",
              "      resolve(e.target.files);\n",
              "    });\n",
              "  });\n",
              "\n",
              "  const cancel = document.createElement('button');\n",
              "  inputElement.parentElement.appendChild(cancel);\n",
              "  cancel.textContent = 'Cancel upload';\n",
              "  const cancelPromise = new Promise((resolve) => {\n",
              "    cancel.onclick = () => {\n",
              "      resolve(null);\n",
              "    };\n",
              "  });\n",
              "\n",
              "  // Wait for the user to pick the files.\n",
              "  const files = yield {\n",
              "    promise: Promise.race([pickedPromise, cancelPromise]),\n",
              "    response: {\n",
              "      action: 'starting',\n",
              "    }\n",
              "  };\n",
              "\n",
              "  cancel.remove();\n",
              "\n",
              "  // Disable the input element since further picks are not allowed.\n",
              "  inputElement.disabled = true;\n",
              "\n",
              "  if (!files) {\n",
              "    return {\n",
              "      response: {\n",
              "        action: 'complete',\n",
              "      }\n",
              "    };\n",
              "  }\n",
              "\n",
              "  for (const file of files) {\n",
              "    const li = document.createElement('li');\n",
              "    li.append(span(file.name, {fontWeight: 'bold'}));\n",
              "    li.append(span(\n",
              "        `(${file.type || 'n/a'}) - ${file.size} bytes, ` +\n",
              "        `last modified: ${\n",
              "            file.lastModifiedDate ? file.lastModifiedDate.toLocaleDateString() :\n",
              "                                    'n/a'} - `));\n",
              "    const percent = span('0% done');\n",
              "    li.appendChild(percent);\n",
              "\n",
              "    outputElement.appendChild(li);\n",
              "\n",
              "    const fileDataPromise = new Promise((resolve) => {\n",
              "      const reader = new FileReader();\n",
              "      reader.onload = (e) => {\n",
              "        resolve(e.target.result);\n",
              "      };\n",
              "      reader.readAsArrayBuffer(file);\n",
              "    });\n",
              "    // Wait for the data to be ready.\n",
              "    let fileData = yield {\n",
              "      promise: fileDataPromise,\n",
              "      response: {\n",
              "        action: 'continue',\n",
              "      }\n",
              "    };\n",
              "\n",
              "    // Use a chunked sending to avoid message size limits. See b/62115660.\n",
              "    let position = 0;\n",
              "    do {\n",
              "      const length = Math.min(fileData.byteLength - position, MAX_PAYLOAD_SIZE);\n",
              "      const chunk = new Uint8Array(fileData, position, length);\n",
              "      position += length;\n",
              "\n",
              "      const base64 = btoa(String.fromCharCode.apply(null, chunk));\n",
              "      yield {\n",
              "        response: {\n",
              "          action: 'append',\n",
              "          file: file.name,\n",
              "          data: base64,\n",
              "        },\n",
              "      };\n",
              "\n",
              "      let percentDone = fileData.byteLength === 0 ?\n",
              "          100 :\n",
              "          Math.round((position / fileData.byteLength) * 100);\n",
              "      percent.textContent = `${percentDone}% done`;\n",
              "\n",
              "    } while (position < fileData.byteLength);\n",
              "  }\n",
              "\n",
              "  // All done.\n",
              "  yield {\n",
              "    response: {\n",
              "      action: 'complete',\n",
              "    }\n",
              "  };\n",
              "}\n",
              "\n",
              "scope.google = scope.google || {};\n",
              "scope.google.colab = scope.google.colab || {};\n",
              "scope.google.colab._files = {\n",
              "  _uploadFiles,\n",
              "  _uploadFilesContinue,\n",
              "};\n",
              "})(self);\n",
              "</script> "
            ]
          },
          "metadata": {}
        }
      ]
    },
    {
      "cell_type": "markdown",
      "source": [
        "**Tradução das TAGs de Metadados**\n",
        "\n",
        "Adicione ao dicionarios as TAGs de metadados que deseja traduzir, caso não queira traduzir basta pular esta célula."
      ],
      "metadata": {
        "id": "1KjKfNX4vPcb"
      }
    },
    {
      "cell_type": "code",
      "source": [
        "# Dicionário de tradução de chaves de metadados para português\n",
        "traducao_chaves = {\n",
        "    \"FileName\": \"Nome do Arquivo\",\n",
        "    \"Directory\": \"Diretório\",\n",
        "    \"FileSize\": \"Tamanho do Arquivo\",\n",
        "    \"FileModifyDate\": \"Data de Modificação\",\n",
        "    \"FileAccessDate\": \"Data de Acesso\",\n",
        "    \"FileInodeChangeDate\": \"Data de Alteração do Inode\",\n",
        "    \"FilePermissions\": \"Permissões do Arquivo\",\n",
        "    \"FileType\": \"Tipo de Arquivo\",\n",
        "    \"FileTypeExtension\": \"Extensão do Tipo de Arquivo\",\n",
        "    \"MIMEType\": \"Tipo MIME\",\n",
        "    \"VP8Version\": \"Versão VP8\",\n",
        "    \"ImageWidth\": \"Largura da Imagem\",\n",
        "    \"HorizontalScale\": \"Escala Horizontal\",\n",
        "    \"ImageHeight\": \"Altura da Imagem\",\n",
        "    \"VerticalScale\": \"Escala Vertical\",\n",
        "    \"ImageSize\": \"Tamanho da Imagem\",\n",
        "    \"Megapixels\": \"Megapixels\",\n",
        "    \"Make\": \"Fabricante\",\n",
        "    \"Model\": \"Modelo\",\n",
        "    \"ISO\": \"ISO\",\n",
        "    \"ExposureTime\": \"Tempo de Exposição\",\n",
        "    \"FNumber\": \"Abertura\",\n",
        "    \"Flash\": \"Flash\",\n",
        "    # Adicione mais traduções conforme necessário\n",
        "}"
      ],
      "metadata": {
        "id": "iv0gWE3os7FC"
      },
      "execution_count": null,
      "outputs": []
    },
    {
      "cell_type": "markdown",
      "source": [
        "**Escolha o argoritmo para o cáculo de hash**\n",
        "\n",
        "Por padrão o algoritmo é o SHA-256, caso queira utilizar outro, basta colocar substituir nesta parte do código\n",
        "![image.png](data:image/png;base64,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)"
      ],
      "metadata": {
        "id": "r_MLC6cbvkma"
      }
    },
    {
      "cell_type": "code",
      "source": [
        "# Escolher o algoritmo de hash\n",
        "algoritmos_disponiveis = ['md5', 'sha1', 'sha256', 'sha512', 'blake2b', 'blake2s']\n",
        "algoritmo_selecionado = 'sha256'  # Você pode alterar para o algoritmo desejado"
      ],
      "metadata": {
        "id": "2Qnhb9OW0n9Y"
      },
      "execution_count": null,
      "outputs": []
    },
    {
      "cell_type": "markdown",
      "source": [
        "**Processamento dos arquivos**"
      ],
      "metadata": {
        "id": "4buLCpZpwCZi"
      }
    },
    {
      "cell_type": "code",
      "source": [
        "# Capturar a saída e salvar em um arquivo\n",
        "with open(\"Metadados.txt\", \"w\", encoding='utf-8') as f:\n",
        "    for fn in uploaded.keys():\n",
        "        # Calcular o hash do arquivo\n",
        "        hash_arquivo = calcular_hash(fn, algoritmo_selecionado)\n",
        "\n",
        "        # Abrir o ExifToolHelper e ler os metadados\n",
        "        with ExifToolHelper() as et:\n",
        "            metadata = et.get_metadata(fn)\n",
        "\n",
        "            # Escrever e exibir o hash e os metadados no arquivo e console\n",
        "            print(f\"Metadados para o arquivo '{fn}':\")\n",
        "            print(f\"Hash ({algoritmo_selecionado.upper()}): {hash_arquivo}\\n\")\n",
        "            f.write(f\"Metadados para o arquivo '{fn}':\\n\")\n",
        "            f.write(f\"Hash ({algoritmo_selecionado.upper()}): {hash_arquivo}\\n\")\n",
        "\n",
        "            for d in metadata:\n",
        "                for k, v in d.items():\n",
        "                    chave_sem_prefixo = k.split(\":\")[-1]\n",
        "                    chave_traduzida = traducao_chaves.get(chave_sem_prefixo, chave_sem_prefixo)\n",
        "                    print(f\"{chave_traduzida}: {v}\")\n",
        "                    f.write(f\"{chave_traduzida}: {v}\\n\")\n",
        "            print(\"\\n\" + \"-\" * 50 + \"\\n\")  # Linha de separação entre arquivos\n",
        "            f.write(\"\\n\" + \"-\" * 50 + \"\\n\")  # Linha de separação entre arquivos\n",
        "\n",
        "# Mensagem de conclusão\n",
        "print(\"Processamento concluído. A saída foi salva em 'Metadados.txt'.\")"
      ],
      "metadata": {
        "id": "fyKIcK9CCluT"
      },
      "execution_count": null,
      "outputs": []
    },
    {
      "cell_type": "markdown",
      "source": [
        "#**Download do arquivo txt com os hashes e metadados**"
      ],
      "metadata": {
        "id": "hAmqNYohDYb8"
      }
    },
    {
      "cell_type": "code",
      "source": [
        " files.download(\"Metadados.txt\")"
      ],
      "metadata": {
        "id": "cI8vP1I_DZKW"
      },
      "execution_count": null,
      "outputs": []
    }
  ]
}
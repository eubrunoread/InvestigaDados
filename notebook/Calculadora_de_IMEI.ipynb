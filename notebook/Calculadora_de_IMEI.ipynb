{
  "cells": [
    {
      "cell_type": "markdown",
      "metadata": {
        "id": "view-in-github",
        "colab_type": "text"
      },
      "source": [
        "<a href=\"https://colab.research.google.com/github/eubrunoread/InvestigaDados/blob/main/notebook/Calculadora_de_IMEI.ipynb\" target=\"_parent\"><img src=\"https://colab.research.google.com/assets/colab-badge.svg\" alt=\"Open In Colab\"/></a>"
      ]
    },
    {
      "cell_type": "markdown",
      "metadata": {
        "id": "vhF9TzjYoSjN"
      },
      "source": [
        "# **Solução para o cálculo de digito verificador do IMEI fornecido por operadores de telefonia por meio do sistema SITTEL**\n",
        "----\n",
        "*Desenvolvido pelo Agente PCSC **Bruno Bevilaqua Lemos** como parte de um projeto pessoal de aprendizagem de Phyton, sugestões ou correções podem ser enviadas para bruno-lemos@pc.sc.gov.br*\n",
        "\n",
        "----\n",
        "\n",
        "*Para rodar código pressione CTRL+F9, ou vá clicando no botão ![image.png](data:image/png;base64,iVBORw0KGgoAAAANSUhEUgAAAC8AAAAmCAYAAABUKMJkAAAAAXNSR0IArs4c6QAAAARnQU1BAACxjwv8YQUAAAAJcEhZcwAADsMAAA7DAcdvqGQAAAHLSURBVFhH7Ze9jkFREMf/uxG1QsUT8AIahVI8gFbhoxGlUqVUa3wUWg8gSoXGC/AElKIUkezu3B2Rvfdwz2E4e5PzS26uM8lM/hlzZuZ+fP2AiPLJ70hyM/PH45F//V8inXkn3hZOvC2ceFs48bZ4i/jD4eA90rxsPZjNZlgul9hsNjidTp4tHo8jk8kgn8+jVCp5tmcQF79arTAajbDb7diiJpVKoVarIZfLscUcUfGU7X6/zyc9ms3mw/+CWM1Txk2FE+RDvo8gJp5KxQ/Vdjab5dNtVL46iIincrlV471eD61WC8lkki1ByJdimCIinrrKPYrFIsbjMcrlMluChMVQISKe2mEYsVgMlUoFg8EAhUKBrVd0Yvh5WjwNn0sf1yGdTqPdbqPb7f65DxTDdJCJXVgbPC0+kUh4k1OX7XbrXeJOp4P1es3W3+lLsUwQyTyN/DDO5zMmkwkajQYWiwVbr+jE8CMinvr5PebzOarVKqbTKVuChMVQIbYe1Ov1QK8nQfv9/k95qKA9Zzgc8kkfsQtLS5Yf6t1hwgmVrw5i4mk7pCXLFPJ5dLN0K7GKSH6MqLhMTtM+HsZbxL8KsQtrAyfeFk68HYBvQ17kr+ayAbIAAAAASUVORK5CYII=) em cada célula.*\n",
        "\n",
        "-----\n",
        "\n",
        "O cálculo do dígito verificador do IMEI (International Mobile Equipment Identity) utiliza o algoritmo de Luhn, um método simples usado para validar uma variedade de números de identificação. Esse algoritmo é amplamente utilizado em números de cartão de crédito e IMEIs, e seu objetivo é detectar erros de digitação ou transmissão.\n",
        "\n",
        "\n",
        "#### **Passos do Algoritmo de Luhn:**\n",
        "\n",
        "Exemplo: IMEI sem o dígito verificador: 49015420323751\n",
        "\n",
        "*Dobrar os dígitos em posições ímpares (O primeiro dígito é considerado como \"posição 0\")*\n",
        "\n",
        "\n",
        "Posições Ímpares: 9, 1, 5, 2, 3, 3, 7\n",
        "Dobrando:          9x2=18, 5x2=10, 3x2=6, 7x2=14\n",
        "\n",
        "\n",
        "*Se o resultado de dobrar for maior que 9, subtraímos 9.*\n",
        "\n",
        "Resultados ajustados: 18 -> 9, 10 -> 1, 6 -> 6, 14 -> 5\n",
        "\n",
        "*Somar todos os números, incluindo os que não foram dobrados:*\n",
        "\n",
        "Soma final: 9 (dígito 9) + 9 (dígito 18 ajustado) + 0 + 1 (dígito 10 ajustado) + 5 + 4 + 0 + 6 + 3 + 2 + 2 + 5 + 3 + 7 = 56\n",
        "\n",
        "\n",
        "*Agora, pegamos a soma final (56) e verificamos o próximo múltiplo de 10, que é 60. Subtraímos 56 de 60 para obter o dígito verificador.*\n",
        "\n",
        "60 - 56 = 4\n",
        "\n",
        "Portanto, o dígito verificador é 4. Assim, o IMEI completo é 490154203237514.\n",
        "\n",
        "\n",
        "###**Fluxo geral:**\n",
        "\n",
        "1. O usuário faz upload de um arquivo CSV com uma coluna 'IMEI'.\n",
        "\n",
        "2. O script lê e calcula o digito verificador.\n",
        "\n",
        "3. Os IMEIS completos são salvos e baixados como TXT."
      ]
    },
    {
      "cell_type": "code",
      "execution_count": 1,
      "metadata": {
        "id": "2Ay2UgHJHUXV"
      },
      "outputs": [],
      "source": [
        "import pandas as pd\n",
        "from google.colab import files"
      ]
    },
    {
      "cell_type": "code",
      "execution_count": 2,
      "metadata": {
        "id": "U3an-4kaHxjK"
      },
      "outputs": [],
      "source": [
        "# Função para calcular o dígito verificador usando o algoritmo de Luhn\n",
        "def calcular_digito_verificador(imei):\n",
        "    imei = imei.replace('-', '')  # Remover hífens, se houver\n",
        "    soma = 0\n",
        "    for i, digito in enumerate(imei):\n",
        "        digito = int(digito)\n",
        "        if i % 2 == 1:  # Dobrar os dígitos nas posições ímpares\n",
        "            digito *= 2\n",
        "            if digito > 9:  # Se o resultado for maior que 9, subtrair 9\n",
        "                digito -= 9\n",
        "        soma += digito\n",
        "    digito_verificador = (10 - (soma % 10)) % 10\n",
        "    return digito_verificador"
      ]
    },
    {
      "cell_type": "markdown",
      "source": [
        "#**Upload do arquivo com IMEIs**\n",
        "Aqui você deve selecionar o arquivo CSV, contendo a lista de IMEIs"
      ],
      "metadata": {
        "id": "sP0PJkwismPX"
      }
    },
    {
      "cell_type": "code",
      "execution_count": null,
      "metadata": {
        "id": "aXzVsH0sI9xR",
        "colab": {
          "base_uri": "https://localhost:8080/",
          "height": 38
        },
        "outputId": "0736d17c-b55c-4b23-cd21-2085e65c0bf1"
      },
      "outputs": [
        {
          "output_type": "display_data",
          "data": {
            "text/plain": [
              "<IPython.core.display.HTML object>"
            ],
            "text/html": [
              "\n",
              "     <input type=\"file\" id=\"files-aaf38a64-8952-4eb7-b108-d309695ae545\" name=\"files[]\" multiple disabled\n",
              "        style=\"border:none\" />\n",
              "     <output id=\"result-aaf38a64-8952-4eb7-b108-d309695ae545\">\n",
              "      Upload widget is only available when the cell has been executed in the\n",
              "      current browser session. Please rerun this cell to enable.\n",
              "      </output>\n",
              "      <script>// Copyright 2017 Google LLC\n",
              "//\n",
              "// Licensed under the Apache License, Version 2.0 (the \"License\");\n",
              "// you may not use this file except in compliance with the License.\n",
              "// You may obtain a copy of the License at\n",
              "//\n",
              "//      http://www.apache.org/licenses/LICENSE-2.0\n",
              "//\n",
              "// Unless required by applicable law or agreed to in writing, software\n",
              "// distributed under the License is distributed on an \"AS IS\" BASIS,\n",
              "// WITHOUT WARRANTIES OR CONDITIONS OF ANY KIND, either express or implied.\n",
              "// See the License for the specific language governing permissions and\n",
              "// limitations under the License.\n",
              "\n",
              "/**\n",
              " * @fileoverview Helpers for google.colab Python module.\n",
              " */\n",
              "(function(scope) {\n",
              "function span(text, styleAttributes = {}) {\n",
              "  const element = document.createElement('span');\n",
              "  element.textContent = text;\n",
              "  for (const key of Object.keys(styleAttributes)) {\n",
              "    element.style[key] = styleAttributes[key];\n",
              "  }\n",
              "  return element;\n",
              "}\n",
              "\n",
              "// Max number of bytes which will be uploaded at a time.\n",
              "const MAX_PAYLOAD_SIZE = 100 * 1024;\n",
              "\n",
              "function _uploadFiles(inputId, outputId) {\n",
              "  const steps = uploadFilesStep(inputId, outputId);\n",
              "  const outputElement = document.getElementById(outputId);\n",
              "  // Cache steps on the outputElement to make it available for the next call\n",
              "  // to uploadFilesContinue from Python.\n",
              "  outputElement.steps = steps;\n",
              "\n",
              "  return _uploadFilesContinue(outputId);\n",
              "}\n",
              "\n",
              "// This is roughly an async generator (not supported in the browser yet),\n",
              "// where there are multiple asynchronous steps and the Python side is going\n",
              "// to poll for completion of each step.\n",
              "// This uses a Promise to block the python side on completion of each step,\n",
              "// then passes the result of the previous step as the input to the next step.\n",
              "function _uploadFilesContinue(outputId) {\n",
              "  const outputElement = document.getElementById(outputId);\n",
              "  const steps = outputElement.steps;\n",
              "\n",
              "  const next = steps.next(outputElement.lastPromiseValue);\n",
              "  return Promise.resolve(next.value.promise).then((value) => {\n",
              "    // Cache the last promise value to make it available to the next\n",
              "    // step of the generator.\n",
              "    outputElement.lastPromiseValue = value;\n",
              "    return next.value.response;\n",
              "  });\n",
              "}\n",
              "\n",
              "/**\n",
              " * Generator function which is called between each async step of the upload\n",
              " * process.\n",
              " * @param {string} inputId Element ID of the input file picker element.\n",
              " * @param {string} outputId Element ID of the output display.\n",
              " * @return {!Iterable<!Object>} Iterable of next steps.\n",
              " */\n",
              "function* uploadFilesStep(inputId, outputId) {\n",
              "  const inputElement = document.getElementById(inputId);\n",
              "  inputElement.disabled = false;\n",
              "\n",
              "  const outputElement = document.getElementById(outputId);\n",
              "  outputElement.innerHTML = '';\n",
              "\n",
              "  const pickedPromise = new Promise((resolve) => {\n",
              "    inputElement.addEventListener('change', (e) => {\n",
              "      resolve(e.target.files);\n",
              "    });\n",
              "  });\n",
              "\n",
              "  const cancel = document.createElement('button');\n",
              "  inputElement.parentElement.appendChild(cancel);\n",
              "  cancel.textContent = 'Cancel upload';\n",
              "  const cancelPromise = new Promise((resolve) => {\n",
              "    cancel.onclick = () => {\n",
              "      resolve(null);\n",
              "    };\n",
              "  });\n",
              "\n",
              "  // Wait for the user to pick the files.\n",
              "  const files = yield {\n",
              "    promise: Promise.race([pickedPromise, cancelPromise]),\n",
              "    response: {\n",
              "      action: 'starting',\n",
              "    }\n",
              "  };\n",
              "\n",
              "  cancel.remove();\n",
              "\n",
              "  // Disable the input element since further picks are not allowed.\n",
              "  inputElement.disabled = true;\n",
              "\n",
              "  if (!files) {\n",
              "    return {\n",
              "      response: {\n",
              "        action: 'complete',\n",
              "      }\n",
              "    };\n",
              "  }\n",
              "\n",
              "  for (const file of files) {\n",
              "    const li = document.createElement('li');\n",
              "    li.append(span(file.name, {fontWeight: 'bold'}));\n",
              "    li.append(span(\n",
              "        `(${file.type || 'n/a'}) - ${file.size} bytes, ` +\n",
              "        `last modified: ${\n",
              "            file.lastModifiedDate ? file.lastModifiedDate.toLocaleDateString() :\n",
              "                                    'n/a'} - `));\n",
              "    const percent = span('0% done');\n",
              "    li.appendChild(percent);\n",
              "\n",
              "    outputElement.appendChild(li);\n",
              "\n",
              "    const fileDataPromise = new Promise((resolve) => {\n",
              "      const reader = new FileReader();\n",
              "      reader.onload = (e) => {\n",
              "        resolve(e.target.result);\n",
              "      };\n",
              "      reader.readAsArrayBuffer(file);\n",
              "    });\n",
              "    // Wait for the data to be ready.\n",
              "    let fileData = yield {\n",
              "      promise: fileDataPromise,\n",
              "      response: {\n",
              "        action: 'continue',\n",
              "      }\n",
              "    };\n",
              "\n",
              "    // Use a chunked sending to avoid message size limits. See b/62115660.\n",
              "    let position = 0;\n",
              "    do {\n",
              "      const length = Math.min(fileData.byteLength - position, MAX_PAYLOAD_SIZE);\n",
              "      const chunk = new Uint8Array(fileData, position, length);\n",
              "      position += length;\n",
              "\n",
              "      const base64 = btoa(String.fromCharCode.apply(null, chunk));\n",
              "      yield {\n",
              "        response: {\n",
              "          action: 'append',\n",
              "          file: file.name,\n",
              "          data: base64,\n",
              "        },\n",
              "      };\n",
              "\n",
              "      let percentDone = fileData.byteLength === 0 ?\n",
              "          100 :\n",
              "          Math.round((position / fileData.byteLength) * 100);\n",
              "      percent.textContent = `${percentDone}% done`;\n",
              "\n",
              "    } while (position < fileData.byteLength);\n",
              "  }\n",
              "\n",
              "  // All done.\n",
              "  yield {\n",
              "    response: {\n",
              "      action: 'complete',\n",
              "    }\n",
              "  };\n",
              "}\n",
              "\n",
              "scope.google = scope.google || {};\n",
              "scope.google.colab = scope.google.colab || {};\n",
              "scope.google.colab._files = {\n",
              "  _uploadFiles,\n",
              "  _uploadFilesContinue,\n",
              "};\n",
              "})(self);\n",
              "</script> "
            ]
          },
          "metadata": {}
        }
      ],
      "source": [
        "uploaded = files.upload()\n",
        "\n",
        "for fn in uploaded.keys():\n",
        "  print('Upload do arquivo \"{name}\" com o tamanho de {length} bytes'.format(\n",
        "      name=fn, length=len(uploaded[fn])))"
      ]
    },
    {
      "cell_type": "code",
      "execution_count": null,
      "metadata": {
        "id": "GUvR5meNHzlg"
      },
      "outputs": [],
      "source": [
        "\n",
        "# Ler os dados\n",
        "df = pd.read_csv(list(uploaded.keys())[0])\n",
        "df"
      ]
    },
    {
      "cell_type": "code",
      "execution_count": null,
      "metadata": {
        "id": "K5wWwbEbJ4z5"
      },
      "outputs": [],
      "source": [
        "# Lista para armazenar os IMEIs completos\n",
        "imeis_completos = []\n",
        "\n",
        "# Para cada IMEI, calcular o dígito verificador e adicionar à lista\n",
        "for imei in df['IMEI']:\n",
        "    imei_str = imei.replace('-', '')[:-1]  # Remove os hífens e exclui o último dígito\n",
        "    digito_verificador = calcular_digito_verificador(imei_str)\n",
        "    imei_completo = imei_str + str(digito_verificador)\n",
        "    imeis_completos.append(imei_completo)\n"
      ]
    },
    {
      "cell_type": "code",
      "execution_count": null,
      "metadata": {
        "id": "BpbIeVSvOmDx"
      },
      "outputs": [],
      "source": [
        "print(\"IMEIs completos com dígito verificador:\")\n",
        "for imei in imeis_completos:\n",
        "    print(imei)"
      ]
    },
    {
      "cell_type": "code",
      "execution_count": null,
      "metadata": {
        "id": "Zkz6qLRYNXDT"
      },
      "outputs": [],
      "source": [
        "\n",
        "# Salvando os IMEIs completos em um arquivo de texto\n",
        "with open('imeis_completos.txt', 'w') as f:\n",
        "    for imei in imeis_completos:\n",
        "        f.write(imei + '\\n')"
      ]
    },
    {
      "cell_type": "markdown",
      "metadata": {
        "id": "JPaUjxVoNyN7"
      },
      "source": [
        "## **Download do Arquivo**"
      ]
    },
    {
      "cell_type": "code",
      "execution_count": null,
      "metadata": {
        "id": "dq7reTG4NYBp"
      },
      "outputs": [],
      "source": [
        "# Fazer download do arquivo de texto\n",
        "files.download('imeis_completos.txt')"
      ]
    }
  ],
  "metadata": {
    "colab": {
      "provenance": [],
      "authorship_tag": "ABX9TyOdpdXm/VJPCVKlvLXKZyqd",
      "include_colab_link": true
    },
    "kernelspec": {
      "display_name": "Python 3",
      "name": "python3"
    },
    "language_info": {
      "name": "python"
    }
  },
  "nbformat": 4,
  "nbformat_minor": 0
}
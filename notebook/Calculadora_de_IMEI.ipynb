{
  "cells": [
    {
      "cell_type": "markdown",
      "metadata": {
        "id": "view-in-github",
        "colab_type": "text"
      },
      "source": [
        "<a href=\"https://colab.research.google.com/github/eubrunoread/InvestigaDados/blob/main/notebook/Calculadora_de_IMEI.ipynb\" target=\"_parent\"><img src=\"https://colab.research.google.com/assets/colab-badge.svg\" alt=\"Open In Colab\"/></a>"
      ]
    },
    {
      "cell_type": "markdown",
      "metadata": {
        "id": "vhF9TzjYoSjN"
      },
      "source": [
        "# **Solução para o cálculo de digito verificador do IMEI fornecido por operadores de telefonia por meio do sistema SITTEL**\n",
        "----\n",
        "*Desenvolvido pelo Agente PCSC **Bruno Bevilaqua Lemos** como parte de um projeto pessoal de aprendizagem de Phyton, sugestões ou correções podem ser enviadas para bruno-lemos@pc.sc.gov.br*\n",
        "\n",
        "----\n",
        "O cálculo do dígito verificador do IMEI (International Mobile Equipment Identity) utiliza o algoritmo de Luhn, um método simples usado para validar uma variedade de números de identificação. Esse algoritmo é amplamente utilizado em números de cartão de crédito e IMEIs, e seu objetivo é detectar erros de digitação ou transmissão.\n",
        "\n",
        "\n",
        "#### **Passos do Algoritmo de Luhn:**\n",
        "\n",
        "Exemplo: IMEI sem o dígito verificador: 49015420323751\n",
        "\n",
        "*Dobrar os dígitos em posições ímpares (O primeiro dígito é considerado como \"posição 0\")*\n",
        "\n",
        "\n",
        "Posições Ímpares: 9, 1, 5, 2, 3, 3, 7\n",
        "Dobrando:          9x2=18, 5x2=10, 3x2=6, 7x2=14\n",
        "\n",
        "\n",
        "*Se o resultado de dobrar for maior que 9, subtraímos 9.*\n",
        "\n",
        "Resultados ajustados: 18 -> 9, 10 -> 1, 6 -> 6, 14 -> 5\n",
        "\n",
        "*Somar todos os números, incluindo os que não foram dobrados:*\n",
        "\n",
        "Soma final: 9 (dígito 9) + 9 (dígito 18 ajustado) + 0 + 1 (dígito 10 ajustado) + 5 + 4 + 0 + 6 + 3 + 2 + 2 + 5 + 3 + 7 = 56\n",
        "\n",
        "\n",
        "*Agora, pegamos a soma final (56) e verificamos o próximo múltiplo de 10, que é 60. Subtraímos 56 de 60 para obter o dígito verificador.*\n",
        "\n",
        "60 - 56 = 4\n",
        "\n",
        "Portanto, o dígito verificador é 4. Assim, o IMEI completo é 490154203237514.\n",
        "\n",
        "\n",
        "###**Fluxo geral:**\n",
        "\n",
        "1. O usuário faz upload de um arquivo CSV com uma coluna 'IMEI'.\n",
        "\n",
        "2. O script lê e calcula o digito verificador.\n",
        "\n",
        "3. Os IMEIS compltos são salvos e baixados como TXT."
      ]
    },
    {
      "cell_type": "code",
      "execution_count": null,
      "metadata": {
        "id": "2Ay2UgHJHUXV"
      },
      "outputs": [],
      "source": [
        "import pandas as pd\n",
        "from google.colab import files"
      ]
    },
    {
      "cell_type": "code",
      "execution_count": null,
      "metadata": {
        "id": "U3an-4kaHxjK"
      },
      "outputs": [],
      "source": [
        "# Função para calcular o dígito verificador usando o algoritmo de Luhn\n",
        "def calcular_digito_verificador(imei):\n",
        "    imei = imei.replace('-', '')  # Remover hífens, se houver\n",
        "    soma = 0\n",
        "    for i, digito in enumerate(imei):\n",
        "        digito = int(digito)\n",
        "        if i % 2 == 1:  # Dobrar os dígitos nas posições ímpares\n",
        "            digito *= 2\n",
        "            if digito > 9:  # Se o resultado for maior que 9, subtrair 9\n",
        "                digito -= 9\n",
        "        soma += digito\n",
        "    digito_verificador = (10 - (soma % 10)) % 10\n",
        "    return digito_verificador"
      ]
    },
    {
      "cell_type": "code",
      "execution_count": null,
      "metadata": {
        "id": "aXzVsH0sI9xR"
      },
      "outputs": [],
      "source": [
        "uploaded = files.upload()\n",
        "\n",
        "for fn in uploaded.keys():\n",
        "  print('Upload do arquivo \"{name}\" com o tamanho de {length} bytes'.format(\n",
        "      name=fn, length=len(uploaded[fn])))"
      ]
    },
    {
      "cell_type": "code",
      "execution_count": null,
      "metadata": {
        "id": "GUvR5meNHzlg"
      },
      "outputs": [],
      "source": [
        "\n",
        "# Ler os dados\n",
        "df = pd.read_csv(list(uploaded.keys())[0])\n",
        "df"
      ]
    },
    {
      "cell_type": "code",
      "execution_count": null,
      "metadata": {
        "id": "K5wWwbEbJ4z5"
      },
      "outputs": [],
      "source": [
        "# Lista para armazenar os IMEIs completos\n",
        "imeis_completos = []\n",
        "\n",
        "# Para cada IMEI, calcular o dígito verificador e adicionar à lista\n",
        "for imei in df['IMEI']:\n",
        "    imei_str = imei.replace('-', '')[:-1]  # Remove os hífens e exclui o último dígito\n",
        "    digito_verificador = calcular_digito_verificador(imei_str)\n",
        "    imei_completo = imei_str + str(digito_verificador)\n",
        "    imeis_completos.append(imei_completo)\n"
      ]
    },
    {
      "cell_type": "code",
      "execution_count": null,
      "metadata": {
        "id": "BpbIeVSvOmDx"
      },
      "outputs": [],
      "source": [
        "print(\"IMEIs completos com dígito verificador:\")\n",
        "for imei in imeis_completos:\n",
        "    print(imei)"
      ]
    },
    {
      "cell_type": "code",
      "execution_count": null,
      "metadata": {
        "id": "Zkz6qLRYNXDT"
      },
      "outputs": [],
      "source": [
        "\n",
        "# Salvando os IMEIs completos em um arquivo de texto\n",
        "with open('imeis_completos.txt', 'w') as f:\n",
        "    for imei in imeis_completos:\n",
        "        f.write(imei + '\\n')"
      ]
    },
    {
      "cell_type": "markdown",
      "metadata": {
        "id": "JPaUjxVoNyN7"
      },
      "source": [
        "## **Download do Arquivo**"
      ]
    },
    {
      "cell_type": "code",
      "execution_count": null,
      "metadata": {
        "id": "dq7reTG4NYBp"
      },
      "outputs": [],
      "source": [
        "# Fazer download do arquivo de texto\n",
        "files.download('imeis_completos.txt')"
      ]
    }
  ],
  "metadata": {
    "colab": {
      "provenance": [],
      "authorship_tag": "ABX9TyMhXf9uHJGK33rgt0/r0MvQ",
      "include_colab_link": true
    },
    "kernelspec": {
      "display_name": "Python 3",
      "name": "python3"
    },
    "language_info": {
      "name": "python"
    }
  },
  "nbformat": 4,
  "nbformat_minor": 0
}
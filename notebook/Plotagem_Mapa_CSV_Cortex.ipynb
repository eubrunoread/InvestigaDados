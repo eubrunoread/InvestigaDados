{
  "cells": [
    {
      "cell_type": "markdown",
      "metadata": {
        "id": "view-in-github",
        "colab_type": "text"
      },
      "source": [
        "<a href=\"https://colab.research.google.com/github/eubrunoread/InvestigaDados/blob/main/notebook/Plotagem_Mapa_CSV_Cortex.ipynb\" target=\"_parent\"><img src=\"https://colab.research.google.com/assets/colab-badge.svg\" alt=\"Open In Colab\"/></a>"
      ]
    },
    {
      "cell_type": "markdown",
      "metadata": {
        "id": "sg5h-4ECAfJc"
      },
      "source": [
        "#**SOLUÇÃO PARA PLOTAGEM NO MAPA DE DADOS EXPORTADOS DO CORTEX EM FORMATO CSV**\n",
        "----\n",
        "*Desenvolvido pelo Agente PCSC **Bruno Bevilaqua Lemos** como parte de um projeto pessoal de aprendizagem de Phyton, sugestões ou correções podem ser enviadas para bruno-lemos@pc.sc.gov.br*\n",
        "\n",
        "----\n",
        "\n",
        "*Para rodar código pressione CTRL+F9, ou vá clicando no botão ![image.png](data:image/png;base64,iVBORw0KGgoAAAANSUhEUgAAAC8AAAAmCAYAAABUKMJkAAAAAXNSR0IArs4c6QAAAARnQU1BAACxjwv8YQUAAAAJcEhZcwAADsMAAA7DAcdvqGQAAAHLSURBVFhH7Ze9jkFREMf/uxG1QsUT8AIahVI8gFbhoxGlUqVUa3wUWg8gSoXGC/AElKIUkezu3B2Rvfdwz2E4e5PzS26uM8lM/hlzZuZ+fP2AiPLJ70hyM/PH45F//V8inXkn3hZOvC2ceFs48bZ4i/jD4eA90rxsPZjNZlgul9hsNjidTp4tHo8jk8kgn8+jVCp5tmcQF79arTAajbDb7diiJpVKoVarIZfLscUcUfGU7X6/zyc9ms3mw/+CWM1Txk2FE+RDvo8gJp5KxQ/Vdjab5dNtVL46iIincrlV471eD61WC8lkki1ByJdimCIinrrKPYrFIsbjMcrlMluChMVQISKe2mEYsVgMlUoFg8EAhUKBrVd0Yvh5WjwNn0sf1yGdTqPdbqPb7f65DxTDdJCJXVgbPC0+kUh4k1OX7XbrXeJOp4P1es3W3+lLsUwQyTyN/DDO5zMmkwkajQYWiwVbr+jE8CMinvr5PebzOarVKqbTKVuChMVQIbYe1Ov1QK8nQfv9/k95qKA9Zzgc8kkfsQtLS5Yf6t1hwgmVrw5i4mk7pCXLFPJ5dLN0K7GKSH6MqLhMTtM+HsZbxL8KsQtrAyfeFk68HYBvQ17kr+ayAbIAAAAASUVORK5CYII=) em cada célula.*\n",
        "\n",
        "-----\n",
        "Este código faz o upload, processamento e visualização de um arquivo CSV contendo dados geográficos (latitude e longitude), além de criar um mapa interativo com marcadores e um trajeto traçado, utilizando a biblioteca Folium e a funcionalidade AntPath para visualização.\n",
        "\n",
        "\n",
        "### ***Fluxo geral:***\n",
        "\n",
        "1. O usuário faz upload de um arquivo CSV com colunas 'Latitude', 'Longitude' e 'DataHora'.\n",
        "\n",
        "2. O script lê, ordena, e adiciona marcadores no mapa com a sequência temporal dos dados.\n",
        "\n",
        "3. Um trajeto é desenhado entre os pontos, e o mapa interativo é salvo e baixado como HTML."
      ]
    },
    {
      "cell_type": "code",
      "execution_count": null,
      "metadata": {
        "id": "mRwQLZmJb75u"
      },
      "outputs": [],
      "source": [
        "import pandas as pd\n",
        "import folium\n",
        "from google.colab import files\n",
        "from folium.plugins import AntPath"
      ]
    },
    {
      "cell_type": "markdown",
      "metadata": {
        "id": "Azxn0SIWYabb"
      },
      "source": [
        "#**Upload do arquivo CSV**\n",
        "\n",
        "Faça o uploado do arquivo CSV."
      ]
    },
    {
      "cell_type": "code",
      "execution_count": null,
      "metadata": {
        "id": "qJXwWv_BENca"
      },
      "outputs": [],
      "source": [
        "# Faz o upload dos arquivos CSV\n",
        "uploaded = files.upload()\n",
        "\n",
        "for fn in uploaded.keys():\n",
        "  print('Upload do arquivo \"{name}\" com o tamanho de {length} bytes'.format(\n",
        "      name=fn, length=len(uploaded[fn])))"
      ]
    },
    {
      "cell_type": "code",
      "execution_count": null,
      "metadata": {
        "id": "Hn_hk8GzqaCn"
      },
      "outputs": [],
      "source": [
        "# Processar cada arquivo\n",
        "for arquivo in uploaded.keys():\n",
        "    print(f'\\nProcessando o arquivo: {arquivo}')\n",
        "    # Processar cada arquivo\n",
        "    df = pd.read_csv(arquivo, sep=';')\n",
        "df"
      ]
    },
    {
      "cell_type": "code",
      "execution_count": null,
      "metadata": {
        "id": "WaivIQF0xJFJ"
      },
      "outputs": [],
      "source": [
        "# Ordenar por Data e Hora, e cria uma coluna com a sequencia temporal\n",
        "df['DataHora'] = pd.to_datetime(df['DataHora'], format='%d/%m/%Y %H:%M:%S')\n",
        "df_ordenado = df.sort_values(by='DataHora', ascending=True).reset_index(drop=True)\n",
        "df_ordenado['SequenciaTemporal'] = df_ordenado.index + 1  # Começando o indexador em 1\n",
        "df_ordenado"
      ]
    },
    {
      "cell_type": "code",
      "execution_count": null,
      "metadata": {
        "id": "qXOW4re4cjcl"
      },
      "outputs": [],
      "source": [
        "# Criar um mapa centrado na primeira estação\n",
        "mapa = folium.Map(location=[df['Latitude'].iloc[0], df['Longitude'].iloc[0]], zoom_start=10)"
      ]
    },
    {
      "cell_type": "code",
      "execution_count": null,
      "metadata": {
        "id": "zurgGk4U5rD7"
      },
      "outputs": [],
      "source": [
        "# Lista para armazenar as coordenadas do trajeto\n",
        "trajeto = []\n",
        "\n",
        "for index, row in df_ordenado.iterrows():\n",
        "    # Adicionar marcador\n",
        "    folium.Marker(location=[row['Latitude'], row['Longitude']], popup=row['Local']).add_to(mapa)\n",
        "\n",
        "    # Adicionar coordenadas ao trajeto\n",
        "    trajeto.append([row['Latitude'], row['Longitude']])\n",
        "\n",
        "# Adicionar trajeto ao mapa com AntPath\n",
        "AntPath(trajeto).add_to(mapa)\n",
        "\n",
        "# Exibir o mapa\n",
        "mapa"
      ]
    },
    {
      "cell_type": "markdown",
      "metadata": {
        "id": "5UbwkSRfK-08"
      },
      "source": [
        "## **Download do Arquivo**"
      ]
    },
    {
      "cell_type": "code",
      "execution_count": null,
      "metadata": {
        "id": "0rVRxwShc1VX"
      },
      "outputs": [],
      "source": [
        "# Salvar o mapa como um arquivo HTML\n",
        "output_filename = f\"MAPA_CORTEX_{arquivo.rsplit('.', 1)[0]}.html\"\n",
        "mapa.save(output_filename)\n",
        "files.download(output_filename)"
      ]
    }
  ],
  "metadata": {
    "colab": {
      "provenance": [],
      "include_colab_link": true
    },
    "kernelspec": {
      "display_name": "Python 3",
      "name": "python3"
    },
    "language_info": {
      "name": "python"
    }
  },
  "nbformat": 4,
  "nbformat_minor": 0
}
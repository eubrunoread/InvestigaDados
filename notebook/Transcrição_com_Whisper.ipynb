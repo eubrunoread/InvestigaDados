{
  "cells": [
    {
      "cell_type": "markdown",
      "metadata": {
        "id": "view-in-github",
        "colab_type": "text"
      },
      "source": [
        "<a href=\"https://colab.research.google.com/github/eubrunoread/InvestigaDados/blob/main/notebook/Transcri%C3%A7%C3%A3o_com_Whisper.ipynb\" target=\"_parent\"><img src=\"https://colab.research.google.com/assets/colab-badge.svg\" alt=\"Open In Colab\"/></a>"
      ]
    },
    {
      "cell_type": "markdown",
      "metadata": {
        "id": "LBdfMd43KJVE"
      },
      "source": [
        "#**SOLUÇÃO PARA TRANSCRIÇÃO DE ARQUIVOS DE MIDIA UTILIZANDO A NUVEM DO GOOGLE**\n",
        "----\n",
        "*Desenvolvido pelo Agente PCSC **Bruno Bevilaqua Lemos** como parte de um projeto pessoal de aprendizagem de Phyton, sugestões ou correções podem ser enviadas para bruno-lemos@pc.sc.gov.br*\n",
        "\n",
        "----\n",
        "Este código faz o upload, processamento e transcrição de arquivos de mídia (MP4,MPEG, MP3, OGG etc.) e transcreve utilizando o processamento em nuvem pelo Google (ideal para quem tem PC da Xuxa), gerando um arquivo TXT com o conteúdo.\n",
        "\n",
        "###**Fluxo geral:**\n",
        "\n",
        "1. O usuário faz upload dos arquivos de mídia (pode se transcrever multiplos arquivos ao mesmo tempo).\n",
        "\n",
        "2. O script lê, processa e transcreve.\n",
        "\n",
        "3. A transcrição é gerada e salva em um arquivo TXT que pode ser baixado.\n",
        "\n",
        "\n"
      ]
    },
    {
      "cell_type": "code",
      "execution_count": null,
      "metadata": {
        "colab": {
          "background_save": true
        },
        "id": "VoxI2fcKqR9z"
      },
      "outputs": [],
      "source": [
        "%%capture\n",
        "!pip install git+https://github.com/openai/whisper.git\n",
        "!sudo apt update && sudo apt install ffmpeg\n",
        "from google.colab import files"
      ]
    },
    {
      "cell_type": "markdown",
      "metadata": {
        "id": "tisotfAgYG62"
      },
      "source": [
        "#**Upload dos arquivos**"
      ]
    },
    {
      "cell_type": "code",
      "execution_count": null,
      "metadata": {
        "id": "lT86hgjSn30Y"
      },
      "outputs": [],
      "source": [
        "uploaded = files.upload()\n",
        "\n",
        "for fn in uploaded.keys():\n",
        "  print('Upload do arquivo \"{name}\" com o tamanho de {length} bytes'.format(\n",
        "      name=fn, length=len(uploaded[fn])))"
      ]
    },
    {
      "cell_type": "markdown",
      "metadata": {
        "id": "AThEfqOPLyas"
      },
      "source": [
        "#**Configure o modelo de transcrição**\n",
        "A configuração é padrão \"medium\", você pode trocar para \"small\", \"medium\" ou \"large\". Quanto maior o modelo maior a qualidade e maior o tempo necessário para a transcrição."
      ]
    },
    {
      "cell_type": "code",
      "execution_count": null,
      "metadata": {
        "id": "A-r6uYNP3aF-"
      },
      "outputs": [],
      "source": [
        "# Configuração do modelo\n",
        "modelo = \"medium\"\n",
        "arquivo = list(uploaded.keys())[0]"
      ]
    },
    {
      "cell_type": "code",
      "execution_count": null,
      "metadata": {
        "id": "eB53w3roSFY0"
      },
      "outputs": [],
      "source": [
        "# Lista para armazenar os nomes dos arquivos gerados\n",
        "arquivos_gerados = []\n",
        "\n",
        "# Processar cada arquivo\n",
        "for arquivo in uploaded.keys():\n",
        "    print(f'\\nProcessando o arquivo: {arquivo}')\n",
        "    arquivo_saida = f\"{arquivo.rsplit('.', 1)[0]}_transcricao.txt\"\n",
        "\n",
        "    # Comando para transcrição\n",
        "    !whisper \"{arquivo}\" --model {modelo} --task transcribe --language pt --output_format txt --output_dir \".\" > \"{arquivo_saida}\"\n",
        "\n",
        "    # Lendo e exibindo o conteúdo do arquivo gerado\n",
        "    with open(arquivo_saida, 'r', encoding='utf-8') as f:\n",
        "        conteudo = f.read()\n",
        "        print(\"\\nConteúdo da transcrição:\")\n",
        "        print(conteudo)\n",
        "\n",
        "    print(f'Transcrição de \"{arquivo}\" salva em: {arquivo_saida}')\n",
        "\n",
        "    arquivos_gerados.append(arquivo_saida)"
      ]
    },
    {
      "cell_type": "markdown",
      "metadata": {
        "id": "AQwLXFR3LkGM"
      },
      "source": [
        "## **Download do Arquivo**"
      ]
    },
    {
      "cell_type": "code",
      "execution_count": null,
      "metadata": {
        "id": "XGo7LQjrLlQF"
      },
      "outputs": [],
      "source": [
        " for arquivo in arquivos_gerados:\n",
        "    files.download(arquivo)"
      ]
    }
  ],
  "metadata": {
    "accelerator": "GPU",
    "colab": {
      "gpuType": "T4",
      "provenance": [],
      "include_colab_link": true
    },
    "kernelspec": {
      "display_name": "Python 3",
      "name": "python3"
    },
    "language_info": {
      "name": "python"
    }
  },
  "nbformat": 4,
  "nbformat_minor": 0
}
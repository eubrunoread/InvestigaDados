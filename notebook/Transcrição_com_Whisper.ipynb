{
  "cells": [
    {
      "cell_type": "markdown",
      "metadata": {
        "id": "view-in-github",
        "colab_type": "text"
      },
      "source": [
        "<a href=\"https://colab.research.google.com/github/eubrunoread/InvestigaDados/blob/main/notebook/Transcri%C3%A7%C3%A3o_com_Whisper.ipynb\" target=\"_parent\"><img src=\"https://colab.research.google.com/assets/colab-badge.svg\" alt=\"Open In Colab\"/></a>"
      ]
    },
    {
      "cell_type": "markdown",
      "metadata": {
        "id": "LBdfMd43KJVE"
      },
      "source": [
        "#**SOLUÇÃO PARA TRANSCRIÇÃO DE ARQUIVOS DE MIDIA UTILIZANDO A NUVEM DO GOOGLE**\n",
        "----\n",
        "*Desenvolvido pelo Agente PCSC **Bruno Bevilaqua Lemos** como parte de um projeto pessoal de aprendizagem de Phyton, sugestões ou correções podem ser enviadas para bruno-lemos@pc.sc.gov.br*\n",
        "\n",
        "----\n",
        "\n",
        "*Para rodar código pressione CTRL+F9, ou vá clicando no botão ![image.png](data:image/png;base64,iVBORw0KGgoAAAANSUhEUgAAAC8AAAAmCAYAAABUKMJkAAAAAXNSR0IArs4c6QAAAARnQU1BAACxjwv8YQUAAAAJcEhZcwAADsMAAA7DAcdvqGQAAAHLSURBVFhH7Ze9jkFREMf/uxG1QsUT8AIahVI8gFbhoxGlUqVUa3wUWg8gSoXGC/AElKIUkezu3B2Rvfdwz2E4e5PzS26uM8lM/hlzZuZ+fP2AiPLJ70hyM/PH45F//V8inXkn3hZOvC2ceFs48bZ4i/jD4eA90rxsPZjNZlgul9hsNjidTp4tHo8jk8kgn8+jVCp5tmcQF79arTAajbDb7diiJpVKoVarIZfLscUcUfGU7X6/zyc9ms3mw/+CWM1Txk2FE+RDvo8gJp5KxQ/Vdjab5dNtVL46iIincrlV471eD61WC8lkki1ByJdimCIinrrKPYrFIsbjMcrlMluChMVQISKe2mEYsVgMlUoFg8EAhUKBrVd0Yvh5WjwNn0sf1yGdTqPdbqPb7f65DxTDdJCJXVgbPC0+kUh4k1OX7XbrXeJOp4P1es3W3+lLsUwQyTyN/DDO5zMmkwkajQYWiwVbr+jE8CMinvr5PebzOarVKqbTKVuChMVQIbYe1Ov1QK8nQfv9/k95qKA9Zzgc8kkfsQtLS5Yf6t1hwgmVrw5i4mk7pCXLFPJ5dLN0K7GKSH6MqLhMTtM+HsZbxL8KsQtrAyfeFk68HYBvQ17kr+ayAbIAAAAASUVORK5CYII=) em cada célula.*\n",
        "\n",
        "-----\n",
        "Este código faz o upload, processamento e transcrição de arquivos de mídia (MP4,MPEG, MP3, OGG etc.) e transcreve utilizando o processamento em nuvem pelo Google (ideal para quem tem PC da Xuxa), gerando um arquivo TXT com o conteúdo.\n",
        "\n",
        "###**Fluxo geral:**\n",
        "\n",
        "1. O usuário faz upload dos arquivos de mídia (pode se transcrever multiplos arquivos ao mesmo tempo).\n",
        "\n",
        "2. O script lê, processa e transcreve.\n",
        "\n",
        "3. A transcrição é gerada e salva em um arquivo TXT que pode ser baixado.\n"
      ]
    },
    {
      "cell_type": "code",
      "execution_count": null,
      "metadata": {
        "id": "VoxI2fcKqR9z"
      },
      "outputs": [],
      "source": [
        "%%capture\n",
        "!pip install git+https://github.com/openai/whisper.git\n",
        "!sudo apt update && sudo apt install ffmpeg\n",
        "from google.colab import files"
      ]
    },
    {
      "cell_type": "markdown",
      "metadata": {
        "id": "tisotfAgYG62"
      },
      "source": [
        "#**Upload dos arquivos**\n",
        "\n",
        "Clique no botão escolher arquivos e selecione, os arquivos de audio ou vídeo para transcrever."
      ]
    },
    {
      "cell_type": "code",
      "execution_count": null,
      "metadata": {
        "id": "lT86hgjSn30Y",
        "colab": {
          "base_uri": "https://localhost:8080/",
          "height": 38
        },
        "outputId": "84eba4f1-1877-485c-f7a7-3a468d76a1fe"
      },
      "outputs": [
        {
          "data": {
            "text/html": [
              "\n",
              "     <input type=\"file\" id=\"files-83fab397-26ef-47a8-9a94-62f5aab549d0\" name=\"files[]\" multiple disabled\n",
              "        style=\"border:none\" />\n",
              "     <output id=\"result-83fab397-26ef-47a8-9a94-62f5aab549d0\">\n",
              "      Upload widget is only available when the cell has been executed in the\n",
              "      current browser session. Please rerun this cell to enable.\n",
              "      </output>\n",
              "      <script>// Copyright 2017 Google LLC\n",
              "//\n",
              "// Licensed under the Apache License, Version 2.0 (the \"License\");\n",
              "// you may not use this file except in compliance with the License.\n",
              "// You may obtain a copy of the License at\n",
              "//\n",
              "//      http://www.apache.org/licenses/LICENSE-2.0\n",
              "//\n",
              "// Unless required by applicable law or agreed to in writing, software\n",
              "// distributed under the License is distributed on an \"AS IS\" BASIS,\n",
              "// WITHOUT WARRANTIES OR CONDITIONS OF ANY KIND, either express or implied.\n",
              "// See the License for the specific language governing permissions and\n",
              "// limitations under the License.\n",
              "\n",
              "/**\n",
              " * @fileoverview Helpers for google.colab Python module.\n",
              " */\n",
              "(function(scope) {\n",
              "function span(text, styleAttributes = {}) {\n",
              "  const element = document.createElement('span');\n",
              "  element.textContent = text;\n",
              "  for (const key of Object.keys(styleAttributes)) {\n",
              "    element.style[key] = styleAttributes[key];\n",
              "  }\n",
              "  return element;\n",
              "}\n",
              "\n",
              "// Max number of bytes which will be uploaded at a time.\n",
              "const MAX_PAYLOAD_SIZE = 100 * 1024;\n",
              "\n",
              "function _uploadFiles(inputId, outputId) {\n",
              "  const steps = uploadFilesStep(inputId, outputId);\n",
              "  const outputElement = document.getElementById(outputId);\n",
              "  // Cache steps on the outputElement to make it available for the next call\n",
              "  // to uploadFilesContinue from Python.\n",
              "  outputElement.steps = steps;\n",
              "\n",
              "  return _uploadFilesContinue(outputId);\n",
              "}\n",
              "\n",
              "// This is roughly an async generator (not supported in the browser yet),\n",
              "// where there are multiple asynchronous steps and the Python side is going\n",
              "// to poll for completion of each step.\n",
              "// This uses a Promise to block the python side on completion of each step,\n",
              "// then passes the result of the previous step as the input to the next step.\n",
              "function _uploadFilesContinue(outputId) {\n",
              "  const outputElement = document.getElementById(outputId);\n",
              "  const steps = outputElement.steps;\n",
              "\n",
              "  const next = steps.next(outputElement.lastPromiseValue);\n",
              "  return Promise.resolve(next.value.promise).then((value) => {\n",
              "    // Cache the last promise value to make it available to the next\n",
              "    // step of the generator.\n",
              "    outputElement.lastPromiseValue = value;\n",
              "    return next.value.response;\n",
              "  });\n",
              "}\n",
              "\n",
              "/**\n",
              " * Generator function which is called between each async step of the upload\n",
              " * process.\n",
              " * @param {string} inputId Element ID of the input file picker element.\n",
              " * @param {string} outputId Element ID of the output display.\n",
              " * @return {!Iterable<!Object>} Iterable of next steps.\n",
              " */\n",
              "function* uploadFilesStep(inputId, outputId) {\n",
              "  const inputElement = document.getElementById(inputId);\n",
              "  inputElement.disabled = false;\n",
              "\n",
              "  const outputElement = document.getElementById(outputId);\n",
              "  outputElement.innerHTML = '';\n",
              "\n",
              "  const pickedPromise = new Promise((resolve) => {\n",
              "    inputElement.addEventListener('change', (e) => {\n",
              "      resolve(e.target.files);\n",
              "    });\n",
              "  });\n",
              "\n",
              "  const cancel = document.createElement('button');\n",
              "  inputElement.parentElement.appendChild(cancel);\n",
              "  cancel.textContent = 'Cancel upload';\n",
              "  const cancelPromise = new Promise((resolve) => {\n",
              "    cancel.onclick = () => {\n",
              "      resolve(null);\n",
              "    };\n",
              "  });\n",
              "\n",
              "  // Wait for the user to pick the files.\n",
              "  const files = yield {\n",
              "    promise: Promise.race([pickedPromise, cancelPromise]),\n",
              "    response: {\n",
              "      action: 'starting',\n",
              "    }\n",
              "  };\n",
              "\n",
              "  cancel.remove();\n",
              "\n",
              "  // Disable the input element since further picks are not allowed.\n",
              "  inputElement.disabled = true;\n",
              "\n",
              "  if (!files) {\n",
              "    return {\n",
              "      response: {\n",
              "        action: 'complete',\n",
              "      }\n",
              "    };\n",
              "  }\n",
              "\n",
              "  for (const file of files) {\n",
              "    const li = document.createElement('li');\n",
              "    li.append(span(file.name, {fontWeight: 'bold'}));\n",
              "    li.append(span(\n",
              "        `(${file.type || 'n/a'}) - ${file.size} bytes, ` +\n",
              "        `last modified: ${\n",
              "            file.lastModifiedDate ? file.lastModifiedDate.toLocaleDateString() :\n",
              "                                    'n/a'} - `));\n",
              "    const percent = span('0% done');\n",
              "    li.appendChild(percent);\n",
              "\n",
              "    outputElement.appendChild(li);\n",
              "\n",
              "    const fileDataPromise = new Promise((resolve) => {\n",
              "      const reader = new FileReader();\n",
              "      reader.onload = (e) => {\n",
              "        resolve(e.target.result);\n",
              "      };\n",
              "      reader.readAsArrayBuffer(file);\n",
              "    });\n",
              "    // Wait for the data to be ready.\n",
              "    let fileData = yield {\n",
              "      promise: fileDataPromise,\n",
              "      response: {\n",
              "        action: 'continue',\n",
              "      }\n",
              "    };\n",
              "\n",
              "    // Use a chunked sending to avoid message size limits. See b/62115660.\n",
              "    let position = 0;\n",
              "    do {\n",
              "      const length = Math.min(fileData.byteLength - position, MAX_PAYLOAD_SIZE);\n",
              "      const chunk = new Uint8Array(fileData, position, length);\n",
              "      position += length;\n",
              "\n",
              "      const base64 = btoa(String.fromCharCode.apply(null, chunk));\n",
              "      yield {\n",
              "        response: {\n",
              "          action: 'append',\n",
              "          file: file.name,\n",
              "          data: base64,\n",
              "        },\n",
              "      };\n",
              "\n",
              "      let percentDone = fileData.byteLength === 0 ?\n",
              "          100 :\n",
              "          Math.round((position / fileData.byteLength) * 100);\n",
              "      percent.textContent = `${percentDone}% done`;\n",
              "\n",
              "    } while (position < fileData.byteLength);\n",
              "  }\n",
              "\n",
              "  // All done.\n",
              "  yield {\n",
              "    response: {\n",
              "      action: 'complete',\n",
              "    }\n",
              "  };\n",
              "}\n",
              "\n",
              "scope.google = scope.google || {};\n",
              "scope.google.colab = scope.google.colab || {};\n",
              "scope.google.colab._files = {\n",
              "  _uploadFiles,\n",
              "  _uploadFilesContinue,\n",
              "};\n",
              "})(self);\n",
              "</script> "
            ],
            "text/plain": [
              "<IPython.core.display.HTML object>"
            ]
          },
          "metadata": {},
          "output_type": "display_data"
        }
      ],
      "source": [
        "uploaded = files.upload()\n",
        "\n",
        "for fn in uploaded.keys():\n",
        "  print('Upload do arquivo \"{name}\" com o tamanho de {length} bytes'.format(\n",
        "      name=fn, length=len(uploaded[fn])))"
      ]
    },
    {
      "cell_type": "markdown",
      "metadata": {
        "id": "AThEfqOPLyas"
      },
      "source": [
        "#**Configure o modelo de transcrição**\n",
        "A configuração é padrão \"medium\", você pode trocar para \"small\", \"medium\" ou \"large\". Quanto maior o modelo maior a qualidade e maior o tempo necessário para a transcrição."
      ]
    },
    {
      "cell_type": "code",
      "execution_count": null,
      "metadata": {
        "id": "A-r6uYNP3aF-"
      },
      "outputs": [],
      "source": [
        "# Configuração do modelo\n",
        "modelo = \"medium\"\n",
        "arquivo = list(uploaded.keys())[0]"
      ]
    },
    {
      "cell_type": "code",
      "execution_count": null,
      "metadata": {
        "id": "eB53w3roSFY0"
      },
      "outputs": [],
      "source": [
        "# Lista para armazenar os nomes dos arquivos gerados\n",
        "arquivos_gerados = []\n",
        "\n",
        "# Processar cada arquivo\n",
        "for arquivo in uploaded.keys():\n",
        "    print(f'\\nProcessando o arquivo: {arquivo}')\n",
        "    arquivo_saida = f\"{arquivo.rsplit('.', 1)[0]}_transcricao.txt\"\n",
        "\n",
        "    # Comando para transcrição\n",
        "    !whisper \"{arquivo}\" --model {modelo} --task transcribe --language pt --output_format txt --output_dir \".\" > \"{arquivo_saida}\"\n",
        "\n",
        "    # Lendo e exibindo o conteúdo do arquivo gerado\n",
        "    with open(arquivo_saida, 'r', encoding='utf-8') as f:\n",
        "        conteudo = f.read()\n",
        "        print(\"\\nConteúdo da transcrição:\")\n",
        "        print(conteudo)\n",
        "\n",
        "    print(f'Transcrição de \"{arquivo}\" salva em: {arquivo_saida}')\n",
        "\n",
        "    arquivos_gerados.append(arquivo_saida)"
      ]
    },
    {
      "cell_type": "markdown",
      "metadata": {
        "id": "AQwLXFR3LkGM"
      },
      "source": [
        "## **Download do Arquivo**"
      ]
    },
    {
      "cell_type": "code",
      "execution_count": null,
      "metadata": {
        "id": "XGo7LQjrLlQF"
      },
      "outputs": [],
      "source": [
        " for arquivo in arquivos_gerados:\n",
        "    files.download(arquivo)"
      ]
    }
  ],
  "metadata": {
    "accelerator": "GPU",
    "colab": {
      "gpuType": "T4",
      "provenance": [],
      "include_colab_link": true
    },
    "kernelspec": {
      "display_name": "Python 3",
      "name": "python3"
    },
    "language_info": {
      "name": "python"
    }
  },
  "nbformat": 4,
  "nbformat_minor": 0
}